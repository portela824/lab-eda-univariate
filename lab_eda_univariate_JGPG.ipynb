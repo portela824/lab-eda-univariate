{
 "cells": [
  {
   "cell_type": "code",
   "execution_count": null,
   "id": "1a09378e",
   "metadata": {},
   "outputs": [],
   "source": [
    "# José G. Portela"
   ]
  },
  {
   "cell_type": "code",
   "execution_count": 2,
   "id": "e9e7d906",
   "metadata": {
    "ExecuteTime": {
     "end_time": "2024-01-08T22:36:09.100165Z",
     "start_time": "2024-01-08T22:35:52.219532Z"
    }
   },
   "outputs": [],
   "source": [
    "import pandas as pd\n",
    "import matplotlib.pyplot as plt\n",
    "import seaborn as sns\n",
    "import numpy as np \n",
    "import statistics\n",
    "# from scipy.stats import ttest_ind\n",
    "# from matplotlib.ticker import FuncFormatter\n",
    "# from matplotlib.ticker import ScalarFormatter"
   ]
  },
  {
   "cell_type": "code",
   "execution_count": 3,
   "id": "970d621f",
   "metadata": {
    "ExecuteTime": {
     "end_time": "2024-01-08T22:36:20.904270Z",
     "start_time": "2024-01-08T22:36:12.128423Z"
    }
   },
   "outputs": [
    {
     "data": {
      "text/html": [
       "<div>\n",
       "<style scoped>\n",
       "    .dataframe tbody tr th:only-of-type {\n",
       "        vertical-align: middle;\n",
       "    }\n",
       "\n",
       "    .dataframe tbody tr th {\n",
       "        vertical-align: top;\n",
       "    }\n",
       "\n",
       "    .dataframe thead th {\n",
       "        text-align: right;\n",
       "    }\n",
       "</style>\n",
       "<table border=\"1\" class=\"dataframe\">\n",
       "  <thead>\n",
       "    <tr style=\"text-align: right;\">\n",
       "      <th></th>\n",
       "      <th>uid</th>\n",
       "      <th>asin</th>\n",
       "      <th>title</th>\n",
       "      <th>stars</th>\n",
       "      <th>reviews</th>\n",
       "      <th>price</th>\n",
       "      <th>isBestSeller</th>\n",
       "      <th>boughtInLastMonth</th>\n",
       "      <th>category</th>\n",
       "    </tr>\n",
       "  </thead>\n",
       "  <tbody>\n",
       "    <tr>\n",
       "      <th>0</th>\n",
       "      <td>1</td>\n",
       "      <td>B09B96TG33</td>\n",
       "      <td>Echo Dot (5th generation, 2022 release) | Big ...</td>\n",
       "      <td>4.7</td>\n",
       "      <td>15308</td>\n",
       "      <td>21.99</td>\n",
       "      <td>False</td>\n",
       "      <td>0</td>\n",
       "      <td>Hi-Fi Speakers</td>\n",
       "    </tr>\n",
       "    <tr>\n",
       "      <th>1</th>\n",
       "      <td>2</td>\n",
       "      <td>B01HTH3C8S</td>\n",
       "      <td>Anker Soundcore mini, Super-Portable Bluetooth...</td>\n",
       "      <td>4.7</td>\n",
       "      <td>98099</td>\n",
       "      <td>23.99</td>\n",
       "      <td>True</td>\n",
       "      <td>0</td>\n",
       "      <td>Hi-Fi Speakers</td>\n",
       "    </tr>\n",
       "    <tr>\n",
       "      <th>2</th>\n",
       "      <td>3</td>\n",
       "      <td>B09B8YWXDF</td>\n",
       "      <td>Echo Dot (5th generation, 2022 release) | Big ...</td>\n",
       "      <td>4.7</td>\n",
       "      <td>15308</td>\n",
       "      <td>21.99</td>\n",
       "      <td>False</td>\n",
       "      <td>0</td>\n",
       "      <td>Hi-Fi Speakers</td>\n",
       "    </tr>\n",
       "    <tr>\n",
       "      <th>3</th>\n",
       "      <td>4</td>\n",
       "      <td>B09B8T5VGV</td>\n",
       "      <td>Echo Dot with clock (5th generation, 2022 rele...</td>\n",
       "      <td>4.7</td>\n",
       "      <td>7205</td>\n",
       "      <td>31.99</td>\n",
       "      <td>False</td>\n",
       "      <td>0</td>\n",
       "      <td>Hi-Fi Speakers</td>\n",
       "    </tr>\n",
       "    <tr>\n",
       "      <th>4</th>\n",
       "      <td>5</td>\n",
       "      <td>B09WX6QD65</td>\n",
       "      <td>Introducing Echo Pop | Full sound compact Wi-F...</td>\n",
       "      <td>4.6</td>\n",
       "      <td>1881</td>\n",
       "      <td>17.99</td>\n",
       "      <td>False</td>\n",
       "      <td>0</td>\n",
       "      <td>Hi-Fi Speakers</td>\n",
       "    </tr>\n",
       "  </tbody>\n",
       "</table>\n",
       "</div>"
      ],
      "text/plain": [
       "   uid        asin                                              title  stars  \\\n",
       "0    1  B09B96TG33  Echo Dot (5th generation, 2022 release) | Big ...    4.7   \n",
       "1    2  B01HTH3C8S  Anker Soundcore mini, Super-Portable Bluetooth...    4.7   \n",
       "2    3  B09B8YWXDF  Echo Dot (5th generation, 2022 release) | Big ...    4.7   \n",
       "3    4  B09B8T5VGV  Echo Dot with clock (5th generation, 2022 rele...    4.7   \n",
       "4    5  B09WX6QD65  Introducing Echo Pop | Full sound compact Wi-F...    4.6   \n",
       "\n",
       "   reviews  price  isBestSeller  boughtInLastMonth        category  \n",
       "0    15308  21.99         False                  0  Hi-Fi Speakers  \n",
       "1    98099  23.99          True                  0  Hi-Fi Speakers  \n",
       "2    15308  21.99         False                  0  Hi-Fi Speakers  \n",
       "3     7205  31.99         False                  0  Hi-Fi Speakers  \n",
       "4     1881  17.99         False                  0  Hi-Fi Speakers  "
      ]
     },
     "execution_count": 3,
     "metadata": {},
     "output_type": "execute_result"
    }
   ],
   "source": [
    "df = pd.read_csv(\"C:\\\\Users\\\\user\\\\Desktop\\\\IronHack\\\\Labs\\\\Week 5\\\\amz_uk_price_prediction_dataset.csv\")\n",
    "df.head()\n",
    "# 2443651 rows × 9 columns"
   ]
  },
  {
   "cell_type": "code",
   "execution_count": 4,
   "id": "baf36a21",
   "metadata": {
    "ExecuteTime": {
     "end_time": "2024-01-05T19:22:05.623841Z",
     "start_time": "2024-01-05T19:22:05.573930Z"
    }
   },
   "outputs": [
    {
     "name": "stdout",
     "output_type": "stream",
     "text": [
      "<class 'pandas.core.frame.DataFrame'>\n",
      "RangeIndex: 2443651 entries, 0 to 2443650\n",
      "Data columns (total 9 columns):\n",
      " #   Column             Dtype  \n",
      "---  ------             -----  \n",
      " 0   uid                int64  \n",
      " 1   asin               object \n",
      " 2   title              object \n",
      " 3   stars              float64\n",
      " 4   reviews            int64  \n",
      " 5   price              float64\n",
      " 6   isBestSeller       bool   \n",
      " 7   boughtInLastMonth  int64  \n",
      " 8   category           object \n",
      "dtypes: bool(1), float64(2), int64(3), object(3)\n",
      "memory usage: 151.5+ MB\n"
     ]
    }
   ],
   "source": [
    "df.info()"
   ]
  },
  {
   "cell_type": "markdown",
   "id": "f3edcc46",
   "metadata": {},
   "source": [
    "# Understanding Product Categories"
   ]
  },
  {
   "cell_type": "code",
   "execution_count": 8,
   "id": "76372f27",
   "metadata": {
    "ExecuteTime": {
     "end_time": "2024-01-05T19:30:05.515665Z",
     "start_time": "2024-01-05T19:30:05.402675Z"
    }
   },
   "outputs": [
    {
     "name": "stdout",
     "output_type": "stream",
     "text": [
      "Top 5 most listed product categories:\n",
      "3D Printers                       248\n",
      "3D Printing & Scanning           4067\n",
      "Abrasive & Finishing Products     250\n",
      "Action Cameras                   1697\n",
      "Adapters                          254\n",
      "Name: category, dtype: int64\n"
     ]
    }
   ],
   "source": [
    "# Frequency Tables:\n",
    "frequency_table = df['category'].value_counts().sort_index()\n",
    "\n",
    "print(\"Top 5 most listed product categories:\")\n",
    "print(frequency_table.head(5))"
   ]
  },
  {
   "cell_type": "code",
   "execution_count": 17,
   "id": "5db74002",
   "metadata": {
    "ExecuteTime": {
     "end_time": "2024-01-05T19:46:00.535158Z",
     "start_time": "2024-01-05T19:46:00.421392Z"
    }
   },
   "outputs": [
    {
     "name": "stdout",
     "output_type": "stream",
     "text": [
      "Bar chart highlights '3D Printing & Scanning' category dominance in the listings\n"
     ]
    },
    {
     "data": {
      "image/png": "[encoded data removed]",
      "text/plain": [
       "<Figure size 640x480 with 1 Axes>"
      ]
     },
     "metadata": {},
     "output_type": "display_data"
    }
   ],
   "source": [
    "#Vizualizations:\n",
    "sns.barplot(y=frequency_table.head(5),x=frequency_table.head(5))\n",
    "print(\"Bar chart highlights '3D Printing & Scanning' category dominance in the listings\")"
   ]
  },
  {
   "cell_type": "markdown",
   "id": "cfeb3c30",
   "metadata": {},
   "source": [
    "# Delving into Product Pricing"
   ]
  },
  {
   "cell_type": "code",
   "execution_count": 19,
   "id": "c91941af",
   "metadata": {
    "ExecuteTime": {
     "end_time": "2024-01-05T19:53:12.027497Z",
     "start_time": "2024-01-05T19:53:11.736292Z"
    }
   },
   "outputs": [
    {
     "name": "stdout",
     "output_type": "stream",
     "text": [
      "\n",
      "Mean: 89.24380943985244\n",
      "Median: 19.09\n",
      "Mode: 9.99\n",
      "Variance: 119445.48532256528\n",
      "Standard Deviation: 345.60886175352226\n",
      "Inter quantile range: 99.99000000000001 -44.01\n"
     ]
    }
   ],
   "source": [
    "# Measures of Centrality\n",
    "mean_value = df['price'].mean()\n",
    "median_value = df['price'].median()\n",
    "mode_value = df['price'].mode()[0]\n",
    "\n",
    "print(\"\\nMean:\", mean_value)\n",
    "print(\"Median:\", median_value)\n",
    "print(\"Mode:\", mode_value)\n",
    "\n",
    "# Measures of Dispersion\n",
    "variance_value = df['price'].var()\n",
    "std_deviation_value = df['price'].std()\n",
    "InterQuantileRange = df['price'].quantile(0.75)-df['price'].quantile(0.25)\n",
    "upper_whisker = 1.5*InterQuantileRange+df['price'].quantile(0.75)\n",
    "lower_whisker = -1.5*InterQuantileRange+df['price'].quantile(0.25)\n",
    "\n",
    "print(\"Variance:\", variance_value)\n",
    "print(\"Standard Deviation:\", std_deviation_value)\n",
    "print(\"Inter quantile range:\",upper_whisker,lower_whisker)"
   ]
  },
  {
   "cell_type": "code",
   "execution_count": null,
   "id": "331b50b8",
   "metadata": {},
   "outputs": [],
   "source": [
    "\"\"\" \n",
    "We got that the average price point is of 89.24, suggesting \n",
    "there are high listed price influencing the mean when comparing\n",
    "whit the mode of 9.99\n",
    "\n",
    "\"\"\""
   ]
  },
  {
   "cell_type": "code",
   "execution_count": 31,
   "id": "8d37013c",
   "metadata": {
    "ExecuteTime": {
     "end_time": "2024-01-05T20:17:43.457590Z",
     "start_time": "2024-01-05T20:15:10.255419Z"
    }
   },
   "outputs": [
    {
     "data": {
      "text/plain": [
       "<AxesSubplot:ylabel='Count'>"
      ]
     },
     "execution_count": 31,
     "metadata": {},
     "output_type": "execute_result"
    },
    {
     "data": {
      "image/png": "[encoded data removed]",
      "text/plain": [
       "<Figure size 640x480 with 1 Axes>"
      ]
     },
     "metadata": {},
     "output_type": "display_data"
    }
   ],
   "source": [
    "# Visualizations:\n",
    "df_price_int = [int(x) for x in df['price']]\n",
    "sns.histplot(df_price_int, bins=range(min(df_price_int),max(df_price_int)+1),kde=False)"
   ]
  },
  {
   "cell_type": "code",
   "execution_count": 43,
   "id": "e6ab0509",
   "metadata": {
    "ExecuteTime": {
     "end_time": "2024-01-05T20:39:39.913256Z",
     "start_time": "2024-01-05T20:39:39.751683Z"
    }
   },
   "outputs": [
    {
     "data": {
      "text/plain": [
       "<AxesSubplot:>"
      ]
     },
     "execution_count": 43,
     "metadata": {},
     "output_type": "execute_result"
    },
    {
     "data": {
      "image/png": "[encoded data removed]",
      "text/plain": [
       "<Figure size 640x480 with 1 Axes>"
      ]
     },
     "metadata": {},
     "output_type": "display_data"
    }
   ],
   "source": [
    "df['price'].head(500).hist()"
   ]
  },
  {
   "cell_type": "code",
   "execution_count": 46,
   "id": "e5129a95",
   "metadata": {
    "ExecuteTime": {
     "end_time": "2024-01-05T20:42:44.724226Z",
     "start_time": "2024-01-05T20:42:44.571670Z"
    }
   },
   "outputs": [
    {
     "data": {
      "text/plain": [
       "<AxesSubplot:>"
      ]
     },
     "execution_count": 46,
     "metadata": {},
     "output_type": "execute_result"
    },
    {
     "data": {
      "image/png": "[encoded data removed]",
      "text/plain": [
       "<Figure size 640x480 with 1 Axes>"
      ]
     },
     "metadata": {},
     "output_type": "display_data"
    }
   ],
   "source": [
    "sns.boxplot(data=df['price'].head(10000))"
   ]
  },
  {
   "cell_type": "markdown",
   "id": "99150b42",
   "metadata": {},
   "source": [
    "# Unpacking Product Ratings"
   ]
  },
  {
   "cell_type": "code",
   "execution_count": 49,
   "id": "a6dd24cf",
   "metadata": {
    "ExecuteTime": {
     "end_time": "2024-01-05T20:47:21.351612Z",
     "start_time": "2024-01-05T20:47:21.140168Z"
    }
   },
   "outputs": [
    {
     "name": "stdout",
     "output_type": "stream",
     "text": [
      "\n",
      "Mean: 2.152836472966905\n",
      "Median: 0.0\n",
      "Mode: 0.0\n",
      "Variance: 4.81743402976196\n",
      "Standard Deviation: 2.1948653785054697\n",
      "Inter quantile range: 11.0 -6.6000000000000005\n"
     ]
    }
   ],
   "source": [
    "# Measures of Centrality\n",
    "mean_value = df['stars'].mean()\n",
    "median_value = df['stars'].median()\n",
    "mode_value = df['stars'].mode()[0]\n",
    "\n",
    "print(\"\\nMean:\", mean_value)\n",
    "print(\"Median:\", median_value)\n",
    "print(\"Mode:\", mode_value)\n",
    "\n",
    "# Measures of Dispersion\n",
    "variance_value = df['stars'].var()\n",
    "std_deviation_value = df['stars'].std()\n",
    "InterQuantileRange = df['stars'].quantile(0.75)-df['stars'].quantile(0.25)\n",
    "upper_whisker = 1.5*InterQuantileRange+df['stars'].quantile(0.75)\n",
    "lower_whisker = -1.5*InterQuantileRange+df['stars'].quantile(0.25)\n",
    "\n",
    "print(\"Variance:\", variance_value)\n",
    "print(\"Standard Deviation:\", std_deviation_value)\n",
    "print(\"Inter quantile range:\",upper_whisker,lower_whisker)"
   ]
  },
  {
   "cell_type": "code",
   "execution_count": 53,
   "id": "e795a966",
   "metadata": {
    "ExecuteTime": {
     "end_time": "2024-01-05T20:56:37.508867Z",
     "start_time": "2024-01-05T20:56:37.357122Z"
    }
   },
   "outputs": [
    {
     "name": "stdout",
     "output_type": "stream",
     "text": [
      "Skewness for the stars (rating) column: 0.08120735761080985\n",
      "Kurtosis for the stars (rating) column: -1.9260061280432985\n"
     ]
    }
   ],
   "source": [
    "# Shape of distribution\n",
    "# Skewness and Kurtosis for the stars (rating) column.\n",
    "\n",
    "skewness_stars = df['stars'].skew()\n",
    "kurtosis_stars = df['stars'].kurtosis()\n",
    "\n",
    "print(\"Skewness for the stars (rating) column:\",skewness_stars)\n",
    "print(\"Kurtosis for the stars (rating) column:\", kurtosis_stars)"
   ]
  },
  {
   "cell_type": "code",
   "execution_count": 8,
   "id": "0f4be617",
   "metadata": {
    "ExecuteTime": {
     "end_time": "2024-01-08T22:38:42.154645Z",
     "start_time": "2024-01-08T22:38:42.143674Z"
    }
   },
   "outputs": [
    {
     "data": {
      "text/plain": [
       "0    4.7\n",
       "1    4.7\n",
       "2    4.7\n",
       "3    4.7\n",
       "4    4.6\n",
       "Name: stars, dtype: float64"
      ]
     },
     "execution_count": 8,
     "metadata": {},
     "output_type": "execute_result"
    }
   ],
   "source": [
    "df['stars'].head()"
   ]
  },
  {
   "cell_type": "code",
   "execution_count": 7,
   "id": "1deefadb",
   "metadata": {
    "ExecuteTime": {
     "end_time": "2024-01-08T22:37:55.269258Z",
     "start_time": "2024-01-08T22:37:55.081718Z"
    }
   },
   "outputs": [
    {
     "data": {
      "text/plain": [
       "<AxesSubplot:>"
      ]
     },
     "execution_count": 7,
     "metadata": {},
     "output_type": "execute_result"
    },
    {
     "data": {
      "image/png": "[encoded data removed]",
      "text/plain": [
       "<Figure size 640x480 with 1 Axes>"
      ]
     },
     "metadata": {},
     "output_type": "display_data"
    }
   ],
   "source": [
    "df['stars'].head(1000000).hist()"
   ]
  }
 ],
 "metadata": {
  "kernelspec": {
   "display_name": "Python 3 (ipykernel)",
   "language": "python",
   "name": "python3"
  },
  "language_info": {
   "codemirror_mode": {
    "name": "ipython",
    "version": 3
   },
   "file_extension": ".py",
   "mimetype": "text/x-python",
   "name": "python",
   "nbconvert_exporter": "python",
   "pygments_lexer": "ipython3",
   "version": "3.9.13"
  },
  "toc": {
   "base_numbering": 1,
   "nav_menu": {},
   "number_sections": true,
   "sideBar": true,
   "skip_h1_title": false,
   "title_cell": "Table of Contents",
   "title_sidebar": "Contents",
   "toc_cell": false,
   "toc_position": {},
   "toc_section_display": true,
   "toc_window_display": false
  },
  "varInspector": {
   "cols": {
    "lenName": 16,
    "lenType": 16,
    "lenVar": 40
   },
   "kernels_config": {
    "python": {
     "delete_cmd_postfix": "",
     "delete_cmd_prefix": "del ",
     "library": "var_list.py",
     "varRefreshCmd": "print(var_dic_list())"
    },
    "r": {
     "delete_cmd_postfix": ") ",
     "delete_cmd_prefix": "rm(",
     "library": "var_list.r",
     "varRefreshCmd": "cat(var_dic_list()) "
    }
   },
   "types_to_exclude": [
    "module",
    "function",
    "builtin_function_or_method",
    "instance",
    "_Feature"
   ],
   "window_display": false
  }
 },
 "nbformat": 4,
 "nbformat_minor": 5
}
